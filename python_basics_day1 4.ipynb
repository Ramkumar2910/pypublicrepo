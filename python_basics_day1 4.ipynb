{
  "nbformat": 4,
  "nbformat_minor": 0,
  "metadata": {
    "colab": {
      "provenance": [],
      "include_colab_link": true
    },
    "kernelspec": {
      "name": "python3",
      "display_name": "Python 3"
    },
    "language_info": {
      "name": "python"
    }
  },
  "cells": [
    {
      "cell_type": "markdown",
      "metadata": {
        "id": "view-in-github",
        "colab_type": "text"
      },
      "source": [
        "<a href=\"https://colab.research.google.com/github/Ramkumar2910/pypublicrepo/blob/main/python_basics_day1%204.ipynb\" target=\"_parent\"><img src=\"https://colab.research.google.com/assets/colab-badge.svg\" alt=\"Open In Colab\"/></a>"
      ]
    },
    {
      "cell_type": "code",
      "execution_count": null,
      "metadata": {
        "colab": {
          "base_uri": "https://localhost:8080/",
          "height": 141
        },
        "id": "fooBKl8FmcO4",
        "outputId": "2c2d67e8-e943-4afd-d46b-1b04919f4960"
      },
      "outputs": [
        {
          "output_type": "error",
          "ename": "NameError",
          "evalue": "name 'prit' is not defined",
          "traceback": [
            "\u001b[0;31m---------------------------------------------------------------------------\u001b[0m",
            "\u001b[0;31mNameError\u001b[0m                                 Traceback (most recent call last)",
            "\u001b[0;32m<ipython-input-3-db6dda56cc4d>\u001b[0m in \u001b[0;36m<cell line: 0>\u001b[0;34m()\u001b[0m\n\u001b[0;32m----> 1\u001b[0;31m \u001b[0mprit\u001b[0m\u001b[0;34m(\u001b[0m\u001b[0;34m\"welcome to Python world\"\u001b[0m\u001b[0;34m)\u001b[0m\u001b[0;34m\u001b[0m\u001b[0;34m\u001b[0m\u001b[0m\n\u001b[0m",
            "\u001b[0;31mNameError\u001b[0m: name 'prit' is not defined"
          ]
        }
      ],
      "source": [
        "prit(\"welcome to Python world\")"
      ]
    },
    {
      "cell_type": "code",
      "source": [],
      "metadata": {
        "id": "HG9_nwPu3BMl"
      },
      "execution_count": null,
      "outputs": []
    },
    {
      "cell_type": "code",
      "source": [],
      "metadata": {
        "id": "PxcF1ZeFuQK1"
      },
      "execution_count": null,
      "outputs": []
    },
    {
      "cell_type": "code",
      "source": [
        "2+3"
      ],
      "metadata": {
        "colab": {
          "base_uri": "https://localhost:8080/"
        },
        "id": "456iibnZml4b",
        "outputId": "98005d39-dad6-427f-90f5-a6fad527d64b"
      },
      "execution_count": null,
      "outputs": [
        {
          "output_type": "execute_result",
          "data": {
            "text/plain": [
              "5"
            ]
          },
          "metadata": {},
          "execution_count": 2
        }
      ]
    },
    {
      "cell_type": "code",
      "source": [
        "print(\"ram\")"
      ],
      "metadata": {
        "id": "VXQX8tT5166b",
        "outputId": "61e9a8be-1cec-477d-bbcb-10c5fd1abb73",
        "colab": {
          "base_uri": "https://localhost:8080/"
        }
      },
      "execution_count": null,
      "outputs": [
        {
          "output_type": "stream",
          "name": "stdout",
          "text": [
            "ram\n"
          ]
        }
      ]
    },
    {
      "cell_type": "code",
      "source": [
        "marks = int(input(\"enter u r marks: \"))\n",
        "print(\"your marks are:\",marks)\n",
        "if marks>35:\n",
        "      print(\"congracts you are passed \")\n",
        "else:\n",
        "      print(\"sorry ! you failed!\")"
      ],
      "metadata": {
        "id": "FfZGizCAuRPS",
        "outputId": "fd44f057-f567-4129-c152-d2b7bf2b2770",
        "colab": {
          "base_uri": "https://localhost:8080/"
        }
      },
      "execution_count": null,
      "outputs": [
        {
          "output_type": "stream",
          "name": "stdout",
          "text": [
            "enter u r marks: 24\n",
            "your marks are: 24\n",
            "sorry ! you failed!\n"
          ]
        }
      ]
    },
    {
      "cell_type": "code",
      "source": [
        "mark = int(input(\"Enter the marks\"))\n",
        "\n",
        "if mark >= 35 :\n",
        "  print(\"You have passed\")\n",
        "else:\n",
        "  print(\"You have failed\")\n",
        "\n",
        "print(\"Thank you\")"
      ],
      "metadata": {
        "id": "8qhaDOpLup9q",
        "outputId": "62dda356-ed7e-4e9e-bb54-5f73770566c6",
        "colab": {
          "base_uri": "https://localhost:8080/"
        }
      },
      "execution_count": null,
      "outputs": [
        {
          "output_type": "stream",
          "name": "stdout",
          "text": [
            "Enter the marks100\n",
            "You have passed\n",
            "Thank you\n"
          ]
        }
      ]
    },
    {
      "cell_type": "code",
      "source": [
        "i = 5\n",
        "\n",
        "while i<=50:\n",
        "  print (i)\n",
        "  i=i+5"
      ],
      "metadata": {
        "id": "fjOSzoaP3EUO",
        "outputId": "fb17e306-a250-4832-8876-a84b52855450",
        "colab": {
          "base_uri": "https://localhost:8080/"
        }
      },
      "execution_count": null,
      "outputs": [
        {
          "output_type": "stream",
          "name": "stdout",
          "text": [
            "5\n",
            "10\n",
            "15\n",
            "20\n",
            "25\n",
            "30\n",
            "35\n",
            "40\n",
            "45\n",
            "50\n"
          ]
        }
      ]
    },
    {
      "cell_type": "code",
      "source": [
        "#nested for loop\n",
        "\n",
        "for i in \"blr\":\n",
        " print(\"outer loop\")\n",
        " for j in[10,20,30]:\n",
        "  print(\"inner loop\")\n",
        "  print(i,j)"
      ],
      "metadata": {
        "colab": {
          "base_uri": "https://localhost:8080/"
        },
        "id": "KSrScX190re-",
        "outputId": "a2cbed1b-4357-4bd6-8eb8-32fa43522115"
      },
      "execution_count": 1,
      "outputs": [
        {
          "output_type": "stream",
          "name": "stdout",
          "text": [
            "outer loop\n",
            "inner loop\n",
            "b 10\n",
            "inner loop\n",
            "b 20\n",
            "inner loop\n",
            "b 30\n",
            "outer loop\n",
            "inner loop\n",
            "l 10\n",
            "inner loop\n",
            "l 20\n",
            "inner loop\n",
            "l 30\n",
            "outer loop\n",
            "inner loop\n",
            "r 10\n",
            "inner loop\n",
            "r 20\n",
            "inner loop\n",
            "r 30\n"
          ]
        }
      ]
    },
    {
      "cell_type": "code",
      "source": [
        "s=input(\"Enter a string:\").lower() #lower() function\n",
        "t=s[::-1]\n",
        "if s==t:\n",
        "  print(s,\"is a palindrome\")\n",
        "else:\n",
        "  print(s,\"is not a palindrome\")"
      ],
      "metadata": {
        "colab": {
          "base_uri": "https://localhost:8080/"
        },
        "id": "RRNUgUsT22by",
        "outputId": "e49c8d7d-a1c6-4954-f2e7-00356e964a5a"
      },
      "execution_count": 2,
      "outputs": [
        {
          "output_type": "stream",
          "name": "stdout",
          "text": [
            "Enter a string:malayalam\n",
            "malayalam is a palindrome\n"
          ]
        }
      ]
    },
    {
      "cell_type": "code",
      "source": [
        "# reversing a string\n",
        "def reverse_string(s):\n",
        "  return s[::-1]\n",
        "\n",
        "string = input(\"Enter a string: \")\n",
        "print(reverse_string(string))"
      ],
      "metadata": {
        "colab": {
          "base_uri": "https://localhost:8080/"
        },
        "id": "it57zeS63MPp",
        "outputId": "2bd8d6c4-d8ff-4e1b-b4a0-469da3e62ab3"
      },
      "execution_count": 4,
      "outputs": [
        {
          "output_type": "stream",
          "name": "stdout",
          "text": [
            "Enter a string: good\n",
            "doog\n"
          ]
        }
      ]
    },
    {
      "cell_type": "code",
      "source": [
        "# reversing a string\n",
        "str=input(\"enter a string\")\n",
        "print(str[-1::1])\n"
      ],
      "metadata": {
        "colab": {
          "base_uri": "https://localhost:8080/"
        },
        "id": "lI47z4iW30Oi",
        "outputId": "485a0075-21e6-4d28-ecdd-9210654517a0"
      },
      "execution_count": 5,
      "outputs": [
        {
          "output_type": "stream",
          "name": "stdout",
          "text": [
            "enter a stringramkumar\n",
            "r\n"
          ]
        }
      ]
    }
  ]
}